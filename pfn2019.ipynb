{
  "nbformat": 4,
  "nbformat_minor": 0,
  "metadata": {
    "colab": {
      "name": "pfn2019.ipynb",
      "provenance": [],
      "collapsed_sections": [],
      "authorship_tag": "ABX9TyPo7bd540+VG1wtsk2I8bsH",
      "include_colab_link": true
    },
    "kernelspec": {
      "name": "python3",
      "display_name": "Python 3"
    },
    "widgets": {
      "application/vnd.jupyter.widget-state+json": {
        "ebea5ce5b2664395bbc281302a059572": {
          "model_module": "@jupyter-widgets/controls",
          "model_name": "HBoxModel",
          "state": {
            "_view_name": "HBoxView",
            "_dom_classes": [],
            "_model_name": "HBoxModel",
            "_view_module": "@jupyter-widgets/controls",
            "_model_module_version": "1.5.0",
            "_view_count": null,
            "_view_module_version": "1.5.0",
            "box_style": "",
            "layout": "IPY_MODEL_7c2b6c0db33647b29079dc1ca427fe33",
            "_model_module": "@jupyter-widgets/controls",
            "children": [
              "IPY_MODEL_8b7d1dba7a9b4f4d9c60287d417489f6",
              "IPY_MODEL_76f4e60831c840e49c4cdc2fab603713"
            ]
          }
        },
        "7c2b6c0db33647b29079dc1ca427fe33": {
          "model_module": "@jupyter-widgets/base",
          "model_name": "LayoutModel",
          "state": {
            "_view_name": "LayoutView",
            "grid_template_rows": null,
            "right": null,
            "justify_content": null,
            "_view_module": "@jupyter-widgets/base",
            "overflow": null,
            "_model_module_version": "1.2.0",
            "_view_count": null,
            "flex_flow": null,
            "width": null,
            "min_width": null,
            "border": null,
            "align_items": null,
            "bottom": null,
            "_model_module": "@jupyter-widgets/base",
            "top": null,
            "grid_column": null,
            "overflow_y": null,
            "overflow_x": null,
            "grid_auto_flow": null,
            "grid_area": null,
            "grid_template_columns": null,
            "flex": null,
            "_model_name": "LayoutModel",
            "justify_items": null,
            "grid_row": null,
            "max_height": null,
            "align_content": null,
            "visibility": null,
            "align_self": null,
            "height": null,
            "min_height": null,
            "padding": null,
            "grid_auto_rows": null,
            "grid_gap": null,
            "max_width": null,
            "order": null,
            "_view_module_version": "1.2.0",
            "grid_template_areas": null,
            "object_position": null,
            "object_fit": null,
            "grid_auto_columns": null,
            "margin": null,
            "display": null,
            "left": null
          }
        },
        "8b7d1dba7a9b4f4d9c60287d417489f6": {
          "model_module": "@jupyter-widgets/controls",
          "model_name": "IntProgressModel",
          "state": {
            "_view_name": "ProgressView",
            "style": "IPY_MODEL_9810cf000ac048ba9a575ac1e1b64a5d",
            "_dom_classes": [],
            "description": "",
            "_model_name": "IntProgressModel",
            "bar_style": "success",
            "max": 5000,
            "_view_module": "@jupyter-widgets/controls",
            "_model_module_version": "1.5.0",
            "value": 5000,
            "_view_count": null,
            "_view_module_version": "1.5.0",
            "orientation": "horizontal",
            "min": 0,
            "description_tooltip": null,
            "_model_module": "@jupyter-widgets/controls",
            "layout": "IPY_MODEL_c4eada50d65a4798b9b7c331d89506e7"
          }
        },
        "76f4e60831c840e49c4cdc2fab603713": {
          "model_module": "@jupyter-widgets/controls",
          "model_name": "HTMLModel",
          "state": {
            "_view_name": "HTMLView",
            "style": "IPY_MODEL_273553b19a49482691bc0521a3a637ab",
            "_dom_classes": [],
            "description": "",
            "_model_name": "HTMLModel",
            "placeholder": "​",
            "_view_module": "@jupyter-widgets/controls",
            "_model_module_version": "1.5.0",
            "value": "100% 5000/5000 [00:19&lt;00:00, 251.76it/s]",
            "_view_count": null,
            "_view_module_version": "1.5.0",
            "description_tooltip": null,
            "_model_module": "@jupyter-widgets/controls",
            "layout": "IPY_MODEL_80962d89c908485eb526643b49cf086e"
          }
        },
        "9810cf000ac048ba9a575ac1e1b64a5d": {
          "model_module": "@jupyter-widgets/controls",
          "model_name": "ProgressStyleModel",
          "state": {
            "_view_name": "StyleView",
            "_model_name": "ProgressStyleModel",
            "description_width": "",
            "_view_module": "@jupyter-widgets/base",
            "_model_module_version": "1.5.0",
            "_view_count": null,
            "_view_module_version": "1.2.0",
            "bar_color": null,
            "_model_module": "@jupyter-widgets/controls"
          }
        },
        "c4eada50d65a4798b9b7c331d89506e7": {
          "model_module": "@jupyter-widgets/base",
          "model_name": "LayoutModel",
          "state": {
            "_view_name": "LayoutView",
            "grid_template_rows": null,
            "right": null,
            "justify_content": null,
            "_view_module": "@jupyter-widgets/base",
            "overflow": null,
            "_model_module_version": "1.2.0",
            "_view_count": null,
            "flex_flow": null,
            "width": null,
            "min_width": null,
            "border": null,
            "align_items": null,
            "bottom": null,
            "_model_module": "@jupyter-widgets/base",
            "top": null,
            "grid_column": null,
            "overflow_y": null,
            "overflow_x": null,
            "grid_auto_flow": null,
            "grid_area": null,
            "grid_template_columns": null,
            "flex": null,
            "_model_name": "LayoutModel",
            "justify_items": null,
            "grid_row": null,
            "max_height": null,
            "align_content": null,
            "visibility": null,
            "align_self": null,
            "height": null,
            "min_height": null,
            "padding": null,
            "grid_auto_rows": null,
            "grid_gap": null,
            "max_width": null,
            "order": null,
            "_view_module_version": "1.2.0",
            "grid_template_areas": null,
            "object_position": null,
            "object_fit": null,
            "grid_auto_columns": null,
            "margin": null,
            "display": null,
            "left": null
          }
        },
        "273553b19a49482691bc0521a3a637ab": {
          "model_module": "@jupyter-widgets/controls",
          "model_name": "DescriptionStyleModel",
          "state": {
            "_view_name": "StyleView",
            "_model_name": "DescriptionStyleModel",
            "description_width": "",
            "_view_module": "@jupyter-widgets/base",
            "_model_module_version": "1.5.0",
            "_view_count": null,
            "_view_module_version": "1.2.0",
            "_model_module": "@jupyter-widgets/controls"
          }
        },
        "80962d89c908485eb526643b49cf086e": {
          "model_module": "@jupyter-widgets/base",
          "model_name": "LayoutModel",
          "state": {
            "_view_name": "LayoutView",
            "grid_template_rows": null,
            "right": null,
            "justify_content": null,
            "_view_module": "@jupyter-widgets/base",
            "overflow": null,
            "_model_module_version": "1.2.0",
            "_view_count": null,
            "flex_flow": null,
            "width": null,
            "min_width": null,
            "border": null,
            "align_items": null,
            "bottom": null,
            "_model_module": "@jupyter-widgets/base",
            "top": null,
            "grid_column": null,
            "overflow_y": null,
            "overflow_x": null,
            "grid_auto_flow": null,
            "grid_area": null,
            "grid_template_columns": null,
            "flex": null,
            "_model_name": "LayoutModel",
            "justify_items": null,
            "grid_row": null,
            "max_height": null,
            "align_content": null,
            "visibility": null,
            "align_self": null,
            "height": null,
            "min_height": null,
            "padding": null,
            "grid_auto_rows": null,
            "grid_gap": null,
            "max_width": null,
            "order": null,
            "_view_module_version": "1.2.0",
            "grid_template_areas": null,
            "object_position": null,
            "object_fit": null,
            "grid_auto_columns": null,
            "margin": null,
            "display": null,
            "left": null
          }
        },
        "9a4b874a32774883bf8211abac890424": {
          "model_module": "@jupyter-widgets/controls",
          "model_name": "HBoxModel",
          "state": {
            "_view_name": "HBoxView",
            "_dom_classes": [],
            "_model_name": "HBoxModel",
            "_view_module": "@jupyter-widgets/controls",
            "_model_module_version": "1.5.0",
            "_view_count": null,
            "_view_module_version": "1.5.0",
            "box_style": "",
            "layout": "IPY_MODEL_2af81322ed744f1c9d1355e052421706",
            "_model_module": "@jupyter-widgets/controls",
            "children": [
              "IPY_MODEL_3e1f771e4d0c48849237d891d1a9bc52",
              "IPY_MODEL_16199f33953a40e6b2d0cf4d85c28568"
            ]
          }
        },
        "2af81322ed744f1c9d1355e052421706": {
          "model_module": "@jupyter-widgets/base",
          "model_name": "LayoutModel",
          "state": {
            "_view_name": "LayoutView",
            "grid_template_rows": null,
            "right": null,
            "justify_content": null,
            "_view_module": "@jupyter-widgets/base",
            "overflow": null,
            "_model_module_version": "1.2.0",
            "_view_count": null,
            "flex_flow": null,
            "width": null,
            "min_width": null,
            "border": null,
            "align_items": null,
            "bottom": null,
            "_model_module": "@jupyter-widgets/base",
            "top": null,
            "grid_column": null,
            "overflow_y": null,
            "overflow_x": null,
            "grid_auto_flow": null,
            "grid_area": null,
            "grid_template_columns": null,
            "flex": null,
            "_model_name": "LayoutModel",
            "justify_items": null,
            "grid_row": null,
            "max_height": null,
            "align_content": null,
            "visibility": null,
            "align_self": null,
            "height": null,
            "min_height": null,
            "padding": null,
            "grid_auto_rows": null,
            "grid_gap": null,
            "max_width": null,
            "order": null,
            "_view_module_version": "1.2.0",
            "grid_template_areas": null,
            "object_position": null,
            "object_fit": null,
            "grid_auto_columns": null,
            "margin": null,
            "display": null,
            "left": null
          }
        },
        "3e1f771e4d0c48849237d891d1a9bc52": {
          "model_module": "@jupyter-widgets/controls",
          "model_name": "IntProgressModel",
          "state": {
            "_view_name": "ProgressView",
            "style": "IPY_MODEL_9bbf317dd7e14a7587ed8a395b1a248d",
            "_dom_classes": [],
            "description": "",
            "_model_name": "IntProgressModel",
            "bar_style": "success",
            "max": 5000,
            "_view_module": "@jupyter-widgets/controls",
            "_model_module_version": "1.5.0",
            "value": 5000,
            "_view_count": null,
            "_view_module_version": "1.5.0",
            "orientation": "horizontal",
            "min": 0,
            "description_tooltip": null,
            "_model_module": "@jupyter-widgets/controls",
            "layout": "IPY_MODEL_b78d72a585d44e92a4375e3ce139f836"
          }
        },
        "16199f33953a40e6b2d0cf4d85c28568": {
          "model_module": "@jupyter-widgets/controls",
          "model_name": "HTMLModel",
          "state": {
            "_view_name": "HTMLView",
            "style": "IPY_MODEL_68f36c763df54df1aa1571a8ca09460f",
            "_dom_classes": [],
            "description": "",
            "_model_name": "HTMLModel",
            "placeholder": "​",
            "_view_module": "@jupyter-widgets/controls",
            "_model_module_version": "1.5.0",
            "value": "100% 5000/5000 [00:22&lt;00:00, 175.98it/s]",
            "_view_count": null,
            "_view_module_version": "1.5.0",
            "description_tooltip": null,
            "_model_module": "@jupyter-widgets/controls",
            "layout": "IPY_MODEL_2291c48c96834ff8b5b6bcc0f90659e4"
          }
        },
        "9bbf317dd7e14a7587ed8a395b1a248d": {
          "model_module": "@jupyter-widgets/controls",
          "model_name": "ProgressStyleModel",
          "state": {
            "_view_name": "StyleView",
            "_model_name": "ProgressStyleModel",
            "description_width": "",
            "_view_module": "@jupyter-widgets/base",
            "_model_module_version": "1.5.0",
            "_view_count": null,
            "_view_module_version": "1.2.0",
            "bar_color": null,
            "_model_module": "@jupyter-widgets/controls"
          }
        },
        "b78d72a585d44e92a4375e3ce139f836": {
          "model_module": "@jupyter-widgets/base",
          "model_name": "LayoutModel",
          "state": {
            "_view_name": "LayoutView",
            "grid_template_rows": null,
            "right": null,
            "justify_content": null,
            "_view_module": "@jupyter-widgets/base",
            "overflow": null,
            "_model_module_version": "1.2.0",
            "_view_count": null,
            "flex_flow": null,
            "width": null,
            "min_width": null,
            "border": null,
            "align_items": null,
            "bottom": null,
            "_model_module": "@jupyter-widgets/base",
            "top": null,
            "grid_column": null,
            "overflow_y": null,
            "overflow_x": null,
            "grid_auto_flow": null,
            "grid_area": null,
            "grid_template_columns": null,
            "flex": null,
            "_model_name": "LayoutModel",
            "justify_items": null,
            "grid_row": null,
            "max_height": null,
            "align_content": null,
            "visibility": null,
            "align_self": null,
            "height": null,
            "min_height": null,
            "padding": null,
            "grid_auto_rows": null,
            "grid_gap": null,
            "max_width": null,
            "order": null,
            "_view_module_version": "1.2.0",
            "grid_template_areas": null,
            "object_position": null,
            "object_fit": null,
            "grid_auto_columns": null,
            "margin": null,
            "display": null,
            "left": null
          }
        },
        "68f36c763df54df1aa1571a8ca09460f": {
          "model_module": "@jupyter-widgets/controls",
          "model_name": "DescriptionStyleModel",
          "state": {
            "_view_name": "StyleView",
            "_model_name": "DescriptionStyleModel",
            "description_width": "",
            "_view_module": "@jupyter-widgets/base",
            "_model_module_version": "1.5.0",
            "_view_count": null,
            "_view_module_version": "1.2.0",
            "_model_module": "@jupyter-widgets/controls"
          }
        },
        "2291c48c96834ff8b5b6bcc0f90659e4": {
          "model_module": "@jupyter-widgets/base",
          "model_name": "LayoutModel",
          "state": {
            "_view_name": "LayoutView",
            "grid_template_rows": null,
            "right": null,
            "justify_content": null,
            "_view_module": "@jupyter-widgets/base",
            "overflow": null,
            "_model_module_version": "1.2.0",
            "_view_count": null,
            "flex_flow": null,
            "width": null,
            "min_width": null,
            "border": null,
            "align_items": null,
            "bottom": null,
            "_model_module": "@jupyter-widgets/base",
            "top": null,
            "grid_column": null,
            "overflow_y": null,
            "overflow_x": null,
            "grid_auto_flow": null,
            "grid_area": null,
            "grid_template_columns": null,
            "flex": null,
            "_model_name": "LayoutModel",
            "justify_items": null,
            "grid_row": null,
            "max_height": null,
            "align_content": null,
            "visibility": null,
            "align_self": null,
            "height": null,
            "min_height": null,
            "padding": null,
            "grid_auto_rows": null,
            "grid_gap": null,
            "max_width": null,
            "order": null,
            "_view_module_version": "1.2.0",
            "grid_template_areas": null,
            "object_position": null,
            "object_fit": null,
            "grid_auto_columns": null,
            "margin": null,
            "display": null,
            "left": null
          }
        }
      }
    }
  },
  "cells": [
    {
      "cell_type": "markdown",
      "metadata": {
        "id": "view-in-github",
        "colab_type": "text"
      },
      "source": [
        "<a href=\"https://colab.research.google.com/github/plue1011/GNN/blob/master/pfn2019.ipynb\" target=\"_parent\"><img src=\"https://colab.research.google.com/assets/colab-badge.svg\" alt=\"Open In Colab\"/></a>"
      ]
    },
    {
      "cell_type": "code",
      "metadata": {
        "id": "S7e0fRTfKqGC",
        "colab_type": "code",
        "colab": {
          "base_uri": "https://localhost:8080/",
          "height": 120
        },
        "outputId": "6eefc902-dfd5-4878-ae6f-231c40cf153b"
      },
      "source": [
        "from google.colab import drive\n",
        "drive.mount('/content/drive')"
      ],
      "execution_count": 93,
      "outputs": [
        {
          "output_type": "stream",
          "text": [
            "Go to this URL in a browser: https://accounts.google.com/o/oauth2/auth?client_id=947318989803-6bn6qk8qdgf4n4g3pfee6491hc0brc4i.apps.googleusercontent.com&redirect_uri=urn%3aietf%3awg%3aoauth%3a2.0%3aoob&response_type=code&scope=email%20https%3a%2f%2fwww.googleapis.com%2fauth%2fdocs.test%20https%3a%2f%2fwww.googleapis.com%2fauth%2fdrive%20https%3a%2f%2fwww.googleapis.com%2fauth%2fdrive.photos.readonly%20https%3a%2f%2fwww.googleapis.com%2fauth%2fpeopleapi.readonly\n",
            "\n",
            "Enter your authorization code:\n",
            "··········\n",
            "Mounted at /content/drive\n"
          ],
          "name": "stdout"
        }
      ]
    },
    {
      "cell_type": "markdown",
      "metadata": {
        "id": "4VrpoSZb_g8h",
        "colab_type": "text"
      },
      "source": [
        "# 課題1"
      ]
    },
    {
      "cell_type": "code",
      "metadata": {
        "id": "QoxrR3qj_tf5",
        "colab_type": "code",
        "colab": {}
      },
      "source": [
        "import numpy as np\n",
        "import matplotlib.pyplot as plt\n",
        "from tqdm import tqdm_notebook as tqdm"
      ],
      "execution_count": 0,
      "outputs": []
    },
    {
      "cell_type": "code",
      "metadata": {
        "id": "B7iO-i1s_1zz",
        "colab_type": "code",
        "colab": {}
      },
      "source": [
        "def ReLU(x):\n",
        "    return np.maximum(0, x)\n",
        "\n",
        "# ReLU(np.array([1,-1,3]))\n",
        "# array([1, 0, 3])"
      ],
      "execution_count": 0,
      "outputs": []
    },
    {
      "cell_type": "markdown",
      "metadata": {
        "id": "_2e8zMs52zI1",
        "colab_type": "text"
      },
      "source": [
        "特徴ベクトル $ \\boldsymbol{x}_{v}^{(t)} \\in \\mathbb{R}^D $, \\\\\n",
        "特徴行列 $ F^{(t)} = \\{\\boldsymbol{x}_{v}^{(t)}\\}_{v \\in V} \\in \\mathbb{R}^{D \\times |V|} $\n",
        "\n",
        "(集約1): $ \\boldsymbol{a}_{v}^{(t)} = \\sum_{w:(w, v) \\in E} \\boldsymbol{x}_{w}^{(t)} $ \\\\\n",
        "(集約2): $ \\boldsymbol{x}_{v}^{t+1} = f(W \\cdot \\boldsymbol{a}_{v}^{(t)}) $"
      ]
    },
    {
      "cell_type": "code",
      "metadata": {
        "id": "LeINophf_77p",
        "colab_type": "code",
        "colab": {}
      },
      "source": [
        "class Graph:\n",
        "    def __init__(self, A_input):\n",
        "        self.A = A_input  # 隣接行列\n",
        "        self.V = self.A.shape[0]  # 頂点数\n",
        "        self.T = 2  # 集約回数\n",
        "\n",
        "    # 集約関数\n",
        "    def Aggregate(self, W):\n",
        "        D = W.shape[0]  # パラメータの次元\n",
        "        F = np.zeros((D, self.V))  # D☓Vのゼロ行列(特徴行列)\n",
        "        F[0] = 1  # 各頂点の特徴ベクトルの最初の要素を1に初期化\n",
        "\n",
        "        for i in range(self.T):\n",
        "            a = F @ self.A\n",
        "            F = ReLU(W @ a)\n",
        "\n",
        "        return F @ np.ones((self.V, 1))"
      ],
      "execution_count": 0,
      "outputs": []
    },
    {
      "cell_type": "code",
      "metadata": {
        "id": "j83X6J-zzEe4",
        "colab_type": "code",
        "colab": {
          "base_uri": "https://localhost:8080/",
          "height": 300
        },
        "outputId": "e40bc0cf-c0f0-42f0-88f5-74404e979faa"
      },
      "source": [
        "A = np.array([[0, 1, 0, 0],\n",
        "              [1, 0, 1, 1],\n",
        "              [0, 1, 0, 1],\n",
        "              [0, 1, 1, 0]])\n",
        "G = Graph(A)\n",
        "W1 = np.ones((8, 8))\n",
        "W2 = np.triu(np.ones((8, 8)))\n",
        "Vec1 = G.Aggregate(W1)\n",
        "Vec2 = G.Aggregate(W2)\n",
        "F0 = np.zeros((8, 4))\n",
        "F0[0] = 1\n",
        "\n",
        "print(\"test\")\n",
        "print(Vec1)\n",
        "print(Vec2)"
      ],
      "execution_count": 87,
      "outputs": [
        {
          "output_type": "stream",
          "text": [
            "test\n",
            "[[144.]\n",
            " [144.]\n",
            " [144.]\n",
            " [144.]\n",
            " [144.]\n",
            " [144.]\n",
            " [144.]\n",
            " [144.]]\n",
            "[[18.]\n",
            " [ 0.]\n",
            " [ 0.]\n",
            " [ 0.]\n",
            " [ 0.]\n",
            " [ 0.]\n",
            " [ 0.]\n",
            " [ 0.]]\n"
          ],
          "name": "stdout"
        }
      ]
    },
    {
      "cell_type": "markdown",
      "metadata": {
        "id": "KvPT5JI9LhYo",
        "colab_type": "text"
      },
      "source": [
        "# 課題2"
      ]
    },
    {
      "cell_type": "markdown",
      "metadata": {
        "id": "Itm2LPpsV3S8",
        "colab_type": "text"
      },
      "source": [
        "問題概要：グラフを入力した場合にそのグラフのラベルを予測する。  \n",
        "e.g.)化学構造を入力したら、有毒か否かを判定する。"
      ]
    },
    {
      "cell_type": "markdown",
      "metadata": {
        "id": "Ilmju5HMYTxa",
        "colab_type": "text"
      },
      "source": [
        "$ A \\in \\mathbb{R}^D $  \n",
        "$ b \\in \\mathbb{R} $  \n",
        "$ \\theta = \\{ W, A, b \\} :$ 分類器のパラメータ集合  \n",
        "$ s = A \\cdot {\\boldsymbol h}_G + b $  \n",
        "$ p = {\\rm Sigmoid}(s) = 1 / (1 + \\exp(-s)) $  \n",
        "$ L = L(G, y, ; \\theta) = -y\\log{p} - (1-y)\\log{(1-p)} $: グラフ$G$に対する正解ラベルを$y \\in \\{0, 1\\}$とするとき、予測に対するbinary cross-entropy損失関数\n"
      ]
    },
    {
      "cell_type": "code",
      "metadata": {
        "id": "JukEMsevCzdh",
        "colab_type": "code",
        "colab": {}
      },
      "source": [
        "# sigmoid関数\n",
        "def sigmoid(s):\n",
        "    return 1 / (1 + np.exp(-s))"
      ],
      "execution_count": 0,
      "outputs": []
    },
    {
      "cell_type": "code",
      "metadata": {
        "id": "3EWRWtqhDJKg",
        "colab_type": "code",
        "colab": {}
      },
      "source": [
        "# cross-entropy損失関数\n",
        "# オーバーフロー対策\n",
        "def binary_cross_entropy(s, y):\n",
        "    if s >= 35:\n",
        "        return y * np.log(1 + np.exp(-s)) + (1 - y) * s\n",
        "    elif s <= -35: \n",
        "        return y * (-s) + (1 - y) * np.log(1 + np.exp(s))\n",
        "    else:\n",
        "        return y * np.log(1 + np.exp(-s)) + (1 - y) * np.log(1 + np.exp(s))"
      ],
      "execution_count": 0,
      "outputs": []
    },
    {
      "cell_type": "code",
      "metadata": {
        "id": "9wOlAkm_FiiY",
        "colab_type": "code",
        "colab": {}
      },
      "source": [
        "# 分類器\n",
        "class Classifier:\n",
        "    def __init__(self):\n",
        "        self.D = 8  # Wの次元数\n",
        "        self.alpha = 0.0001  # 学習率\n",
        "        self.epsilon = 0.001  # 微分摂動\n",
        "\n",
        "        # パラメータの初期値\n",
        "        self.W = np.random.normal(0, 0.4, (self.D, self.D))\n",
        "        self.A = np.random.normal(0, 0.4, (self.D, 1))\n",
        "        self.b = 0\n",
        "\n",
        "    # 損失計算\n",
        "    def calculation_loss(self, G, y):\n",
        "        h_G = G.Aggregate(self.W)\n",
        "        s = self.A.T @ h_G + self.b\n",
        "        return binary_cross_entropy(s, y)\n",
        "\n",
        "    # 勾配計算\n",
        "    def calculation_grad(self, G, y):\n",
        "        grad_W = np.zeros((self.D, self.D))\n",
        "        grad_A = np.zeros((self.D, 1))\n",
        "        grad_b = 0\n",
        "\n",
        "        now_loss = self.calculation_loss(G, y)\n",
        "\n",
        "        for i in range(self.D):\n",
        "            for j in range(self.D):\n",
        "                self.W[i][j] += self.epsilon\n",
        "                grad_W[i][j] = (self.calculation_loss(G, y) - now_loss) / self.epsilon\n",
        "                self.W[i][j] -= self.epsilon\n",
        "\n",
        "        for i in range(self.D):\n",
        "            self.A[i] += self.epsilon\n",
        "            grad_A[i] = (self.calculation_loss(G, y) - now_loss) / self.epsilon\n",
        "            self.A[i] -= self.epsilon\n",
        "\n",
        "        self.b += self.epsilon\n",
        "        grad_b = (self.calculation_loss(G, y) - now_loss) / self.epsilon\n",
        "        self.b -= self.epsilon\n",
        "\n",
        "        return grad_W, grad_A, grad_b"
      ],
      "execution_count": 0,
      "outputs": []
    },
    {
      "cell_type": "code",
      "metadata": {
        "id": "oDVqv-EOKnSt",
        "colab_type": "code",
        "colab": {
          "base_uri": "https://localhost:8080/",
          "height": 1000,
          "referenced_widgets": [
            "ebea5ce5b2664395bbc281302a059572",
            "7c2b6c0db33647b29079dc1ca427fe33",
            "8b7d1dba7a9b4f4d9c60287d417489f6",
            "76f4e60831c840e49c4cdc2fab603713",
            "9810cf000ac048ba9a575ac1e1b64a5d",
            "c4eada50d65a4798b9b7c331d89506e7",
            "273553b19a49482691bc0521a3a637ab",
            "80962d89c908485eb526643b49cf086e",
            "9a4b874a32774883bf8211abac890424",
            "2af81322ed744f1c9d1355e052421706",
            "3e1f771e4d0c48849237d891d1a9bc52",
            "16199f33953a40e6b2d0cf4d85c28568",
            "9bbf317dd7e14a7587ed8a395b1a248d",
            "b78d72a585d44e92a4375e3ce139f836",
            "68f36c763df54df1aa1571a8ca09460f",
            "2291c48c96834ff8b5b6bcc0f90659e4"
          ]
        },
        "outputId": "2c3aee84-2d5e-4e04-c458-0e681828f17c"
      },
      "source": [
        "path = \"/content/drive/My Drive/study/GNN/scratch/datasets/train/\"\n",
        "data_ids = [\"21\", \"55\"]  # 今回使うグラフデータ\n",
        "\n",
        "plt.subplots_adjust(wspace=0.5, hspace=0.5)\n",
        "\n",
        "for pos, data_id in enumerate(data_ids):\n",
        "    graph_name = path + data_id + \"_graph.txt\"\n",
        "    label_name = path + data_id + \"_label.txt\"\n",
        "\n",
        "    # グラフ読み込み\n",
        "    with open(graph_name, \"r\") as f:\n",
        "        A = [l.strip().split(\" \") for l in f.readlines()][1:]\n",
        "        A = [*map(lambda l: [int(n) for n in l], A)]\n",
        "\n",
        "    # ラベル読み込み\n",
        "    with open(label_name, \"r\") as f:\n",
        "        label = int(f.readlines()[0].strip())\n",
        "\n",
        "    A = np.array(A)\n",
        "    G = Graph(A)\n",
        "\n",
        "    print(\"label\", label)\n",
        "    print(\"A\\n\", A)\n",
        "\n",
        "    clf = Classifier()\n",
        "\n",
        "    loss = clf.calculation_loss(G, label)\n",
        "\n",
        "    # 損失を保存\n",
        "    loss_data = [loss]\n",
        "\n",
        "    for i in tqdm(range(0, 5000)):\n",
        "        grad_W, grad_A, grad_b = clf.calculation_grad(G, label)\n",
        "        clf.W = clf.W - clf.alpha * grad_W\n",
        "        clf.A = clf.A - clf.alpha * grad_A\n",
        "        clf.b = clf.b - clf.alpha * grad_b\n",
        "\n",
        "        loss_data.append(float(clf.calculation_loss(G, label)))\n",
        "\n",
        "    print(\"h_G\\n\", G.Aggregate(clf.W))\n",
        "\n",
        "    plt.subplot(2, 1, pos+1)\n",
        "    plt.plot(list(range(0, len(loss_data))), loss_data)\n",
        "\n",
        "plt.show()"
      ],
      "execution_count": 135,
      "outputs": [
        {
          "output_type": "stream",
          "text": [
            "label 0\n",
            "A\n",
            " [[0 0 0 0 0 1 0 0 0 0]\n",
            " [0 0 0 0 0 0 1 1 0 0]\n",
            " [0 0 0 1 0 0 0 0 0 0]\n",
            " [0 0 1 0 0 0 0 0 0 1]\n",
            " [0 0 0 0 0 1 0 0 0 0]\n",
            " [1 0 0 0 1 0 0 0 1 0]\n",
            " [0 1 0 0 0 0 0 0 0 0]\n",
            " [0 1 0 0 0 0 0 0 0 0]\n",
            " [0 0 0 0 0 1 0 0 0 0]\n",
            " [0 0 0 1 0 0 0 0 0 0]]\n"
          ],
          "name": "stdout"
        },
        {
          "output_type": "display_data",
          "data": {
            "application/vnd.jupyter.widget-view+json": {
              "model_id": "ebea5ce5b2664395bbc281302a059572",
              "version_minor": 0,
              "version_major": 2
            },
            "text/plain": [
              "HBox(children=(IntProgress(value=0, max=5000), HTML(value='')))"
            ]
          },
          "metadata": {
            "tags": []
          }
        },
        {
          "output_type": "stream",
          "text": [
            "\n",
            "h_G\n",
            " [[13.16701984]\n",
            " [ 0.        ]\n",
            " [ 0.        ]\n",
            " [ 0.71826697]\n",
            " [ 6.78530065]\n",
            " [ 0.        ]\n",
            " [ 9.3669258 ]\n",
            " [11.59868524]]\n",
            "label 1\n",
            "A\n",
            " [[0 0 0 0 0 0 0 1 0 0 0 0]\n",
            " [0 0 0 0 0 0 0 1 0 1 0 0]\n",
            " [0 0 0 0 0 0 0 0 0 0 0 0]\n",
            " [0 0 0 0 0 0 0 0 0 1 0 0]\n",
            " [0 0 0 0 0 0 0 0 1 0 0 1]\n",
            " [0 0 0 0 0 0 0 1 0 0 0 1]\n",
            " [0 0 0 0 0 0 0 1 1 0 0 0]\n",
            " [1 1 0 0 0 1 1 0 0 0 1 0]\n",
            " [0 0 0 0 1 0 1 0 0 0 0 0]\n",
            " [0 1 0 1 0 0 0 0 0 0 0 0]\n",
            " [0 0 0 0 0 0 0 1 0 0 0 0]\n",
            " [0 0 0 0 1 1 0 0 0 0 0 0]]\n"
          ],
          "name": "stdout"
        },
        {
          "output_type": "display_data",
          "data": {
            "application/vnd.jupyter.widget-view+json": {
              "model_id": "9a4b874a32774883bf8211abac890424",
              "version_minor": 0,
              "version_major": 2
            },
            "text/plain": [
              "HBox(children=(IntProgress(value=0, max=5000), HTML(value='')))"
            ]
          },
          "metadata": {
            "tags": []
          }
        },
        {
          "output_type": "stream",
          "text": [
            "\n",
            "h_G\n",
            " [[53.16882853]\n",
            " [ 0.        ]\n",
            " [ 0.        ]\n",
            " [ 0.        ]\n",
            " [ 0.        ]\n",
            " [ 0.        ]\n",
            " [ 0.        ]\n",
            " [ 0.        ]]\n"
          ],
          "name": "stdout"
        },
        {
          "output_type": "display_data",
          "data": {
            "image/png": "[encoded data removed]",
            "text/plain": [
              "<Figure size 432x288 with 2 Axes>"
            ]
          },
          "metadata": {
            "tags": []
          }
        }
      ]
    },
    {
      "cell_type": "markdown",
      "metadata": {
        "id": "iD31Nrh4NVUo",
        "colab_type": "text"
      },
      "source": [
        "# 課題3"
      ]
    },
    {
      "cell_type": "code",
      "metadata": {
        "id": "haZNshfqai5K",
        "colab_type": "code",
        "colab": {}
      },
      "source": [
        ""
      ],
      "execution_count": 0,
      "outputs": []
    }
  ]
}