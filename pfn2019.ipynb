{
  "nbformat": 4,
  "nbformat_minor": 0,
  "metadata": {
    "colab": {
      "name": "pfn2019.ipynb",
      "provenance": [],
      "collapsed_sections": [],
      "authorship_tag": "ABX9TyNRVqheHIG+t/psqUlS+jsi",
      "include_colab_link": true
    },
    "kernelspec": {
      "name": "python3",
      "display_name": "Python 3"
    }
  },
  "cells": [
    {
      "cell_type": "markdown",
      "metadata": {
        "id": "view-in-github",
        "colab_type": "text"
      },
      "source": [
        "<a href=\"https://colab.research.google.com/github/plue1011/GNN/blob/master/pfn2019.ipynb\" target=\"_parent\"><img src=\"https://colab.research.google.com/assets/colab-badge.svg\" alt=\"Open In Colab\"/></a>"
      ]
    },
    {
      "cell_type": "markdown",
      "metadata": {
        "id": "4VrpoSZb_g8h",
        "colab_type": "text"
      },
      "source": [
        "# 課題1"
      ]
    },
    {
      "cell_type": "code",
      "metadata": {
        "id": "QoxrR3qj_tf5",
        "colab_type": "code",
        "colab": {}
      },
      "source": [
        "import numpy as np"
      ],
      "execution_count": 0,
      "outputs": []
    },
    {
      "cell_type": "code",
      "metadata": {
        "id": "B7iO-i1s_1zz",
        "colab_type": "code",
        "colab": {}
      },
      "source": [
        "def ReLU(x):\n",
        "    return np.maximum(0, x)\n",
        "\n",
        "# ReLU(np.array([1,-1,3]))\n",
        "# array([1, 0, 3])"
      ],
      "execution_count": 0,
      "outputs": []
    },
    {
      "cell_type": "code",
      "metadata": {
        "id": "LeINophf_77p",
        "colab_type": "code",
        "colab": {}
      },
      "source": [
        "class Graph:\n",
        "    def __init__(self, _A):\n",
        "        self.A = _A  # 隣接行列\n",
        "        self.V = self.A.shape[0]  # 頂点数\n",
        "        self.T = 2  # 集約回数\n",
        "\n",
        "    # 集約関数\n",
        "    def Aggregate(self, W):\n",
        "        D = W.shape[0]  # パラメータの次元\n",
        "        F = np.zeros((D, self.V))  # 各頂点の特徴ベクトルを横に並べたD☓Vのゼロ行列\n",
        "        F[0] = 1  # 各頂点の特徴ベクトルの最初の要素を1に初期化\n",
        "\n",
        "        for i in range(self.T):\n",
        "            F = ReLU(np.dot(W, np.dot(F, self.A)))\n",
        "\n",
        "        return np.dot(F, np.ones((self.V, 1)))"
      ],
      "execution_count": 0,
      "outputs": []
    },
    {
      "cell_type": "code",
      "metadata": {
        "id": "o-D0GnP0AWAZ",
        "colab_type": "code",
        "colab": {
          "base_uri": "https://localhost:8080/",
          "height": 933
        },
        "outputId": "3aa13e1a-a965-4086-8f23-44d8ca4994d4"
      },
      "source": [
        "A = np.array([[0, 1, 0, 0],\n",
        "              [1, 0, 1, 1],\n",
        "              [0, 1, 0, 1],\n",
        "              [0, 1, 1, 0]])\n",
        "G = Graph(A)\n",
        "W1 = np.ones((8, 8))\n",
        "W2 = np.triu(np.ones((8, 8)))\n",
        "Vec1 = G.Aggregate(W1)\n",
        "Vec2 = G.Aggregate(W2)\n",
        "F0 = np.zeros((8, 4))\n",
        "F0[0] = 1\n",
        "\n",
        "print(\"test\")\n",
        "print(Vec1)\n",
        "print(((W1.dot(W1)).dot(F0)).dot((A.T).dot(A.T)).dot(np.ones((4, 1))))\n",
        "print(Vec2)\n",
        "print(((W2.dot(W2)).dot(F0)).dot((A.T).dot(A.T)).dot(np.ones((4, 1))))"
      ],
      "execution_count": 29,
      "outputs": [
        {
          "output_type": "stream",
          "text": [
            "[[24. 40. 40. 40.]\n",
            " [24. 40. 40. 40.]\n",
            " [24. 40. 40. 40.]\n",
            " [24. 40. 40. 40.]\n",
            " [24. 40. 40. 40.]\n",
            " [24. 40. 40. 40.]\n",
            " [24. 40. 40. 40.]\n",
            " [24. 40. 40. 40.]] [[1.]\n",
            " [1.]\n",
            " [1.]\n",
            " [1.]]\n",
            "[[3. 5. 5. 5.]\n",
            " [0. 0. 0. 0.]\n",
            " [0. 0. 0. 0.]\n",
            " [0. 0. 0. 0.]\n",
            " [0. 0. 0. 0.]\n",
            " [0. 0. 0. 0.]\n",
            " [0. 0. 0. 0.]\n",
            " [0. 0. 0. 0.]] [[1.]\n",
            " [1.]\n",
            " [1.]\n",
            " [1.]]\n",
            "test\n",
            "[[144.]\n",
            " [144.]\n",
            " [144.]\n",
            " [144.]\n",
            " [144.]\n",
            " [144.]\n",
            " [144.]\n",
            " [144.]]\n",
            "[[144.]\n",
            " [144.]\n",
            " [144.]\n",
            " [144.]\n",
            " [144.]\n",
            " [144.]\n",
            " [144.]\n",
            " [144.]]\n",
            "[[18.]\n",
            " [ 0.]\n",
            " [ 0.]\n",
            " [ 0.]\n",
            " [ 0.]\n",
            " [ 0.]\n",
            " [ 0.]\n",
            " [ 0.]]\n",
            "[[18.]\n",
            " [ 0.]\n",
            " [ 0.]\n",
            " [ 0.]\n",
            " [ 0.]\n",
            " [ 0.]\n",
            " [ 0.]\n",
            " [ 0.]]\n"
          ],
          "name": "stdout"
        }
      ]
    },
    {
      "cell_type": "code",
      "metadata": {
        "id": "VxLdQLkdHNSC",
        "colab_type": "code",
        "colab": {
          "base_uri": "https://localhost:8080/",
          "height": 33
        },
        "outputId": "d942e1e1-86f9-4560-9f54-7bbfc0d15892"
      },
      "source": [
        "np.ones((1,3))"
      ],
      "execution_count": 17,
      "outputs": [
        {
          "output_type": "execute_result",
          "data": {
            "text/plain": [
              "array([[1., 1., 1.]])"
            ]
          },
          "metadata": {
            "tags": []
          },
          "execution_count": 17
        }
      ]
    },
    {
      "cell_type": "code",
      "metadata": {
        "id": "KvPT5JI9LhYo",
        "colab_type": "code",
        "colab": {}
      },
      "source": [
        ""
      ],
      "execution_count": 0,
      "outputs": []
    }
  ]
}